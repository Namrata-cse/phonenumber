{
  "nbformat": 4,
  "nbformat_minor": 0,
  "metadata": {
    "colab": {
      "name": "phoneno_details.ipynb",
      "provenance": [],
      "authorship_tag": "ABX9TyOvTnASrYuAzuTuyfhUJIfm",
      "include_colab_link": true
    },
    "kernelspec": {
      "name": "python3",
      "display_name": "Python 3"
    },
    "language_info": {
      "name": "python"
    }
  },
  "cells": [
    {
      "cell_type": "markdown",
      "metadata": {
        "id": "view-in-github",
        "colab_type": "text"
      },
      "source": [
        "<a href=\"https://colab.research.google.com/github/Namrata-cse/phonenumber/blob/main/phoneno_details.ipynb\" target=\"_parent\"><img src=\"https://colab.research.google.com/assets/colab-badge.svg\" alt=\"Open In Colab\"/></a>"
      ]
    },
    {
      "cell_type": "code",
      "metadata": {
        "colab": {
          "base_uri": "https://localhost:8080/"
        },
        "id": "TYCbcwUKIvVF",
        "outputId": "eca71e64-03f2-4d97-b4b3-fb904ecfb8b9"
      },
      "source": [
        "!pip install phonenumbers\n",
        "import phonenumbers\n",
        "from phonenumbers import carrier,geocoder,timezone\n"
      ],
      "execution_count": 3,
      "outputs": [
        {
          "output_type": "stream",
          "name": "stdout",
          "text": [
            "Requirement already satisfied: phonenumbers in /usr/local/lib/python3.7/dist-packages (8.12.36)\n"
          ]
        }
      ]
    },
    {
      "cell_type": "code",
      "metadata": {
        "colab": {
          "base_uri": "https://localhost:8080/"
        },
        "id": "nJRcHy0GKA_e",
        "outputId": "539bd1cf-1a2a-4a4c-e7bd-c3545777e1a8"
      },
      "source": [
        "mobileNo =input(\"enter mobile no with country code:\")\n",
        "mobileNo =phonenumbers.parse(mobileNo)"
      ],
      "execution_count": 9,
      "outputs": [
        {
          "name": "stdout",
          "output_type": "stream",
          "text": [
            "enter mobile no with country code:+916000924903\n"
          ]
        }
      ]
    },
    {
      "cell_type": "code",
      "metadata": {
        "colab": {
          "base_uri": "https://localhost:8080/"
        },
        "id": "HXn7gAWyKZyF",
        "outputId": "188fc183-8e31-44cd-fb61-6d4d4f6a034c"
      },
      "source": [
        "print(timezone.time_zones_for_number(mobileNo))#getting timezone of a number\n",
        "print(carrier.name_for_number(mobileNo,\"en\"))#getting carrier of a number\n",
        "print(geocoder.description_for_number(mobileNo,\"en\"))#getting region information a number\n",
        "print(\"Valid Phone number:\",phonenumbers.is_valid_number(mobileNo))#validating a phone number\n",
        "print(\"check possibilty if that number:\",phonenumbers.is_possible_number(mobileNo))\n"
      ],
      "execution_count": 10,
      "outputs": [
        {
          "output_type": "stream",
          "name": "stdout",
          "text": [
            "('Asia/Calcutta',)\n",
            "Reliance Jio\n",
            "India\n",
            "Valid Phone number: True\n",
            "check possibilty if that number: True\n"
          ]
        }
      ]
    }
  ]
}